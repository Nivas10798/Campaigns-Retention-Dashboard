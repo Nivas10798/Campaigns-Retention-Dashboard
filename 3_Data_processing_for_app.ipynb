{
 "cells": [
  {
   "cell_type": "code",
   "execution_count": null,
   "id": "2138310c",
   "metadata": {},
   "outputs": [],
   "source": [
    "# importing necessary libraries\n",
    "import requests\n",
    "from bs4 import BeautifulSoup\n",
    "import wget\n",
    "import calendar\n",
    "import pickle\n",
    "import re\n",
    "import os\n",
    "import sys\n",
    "import time\n",
    "import json\n",
    "import pandas as pd\n",
    "from sqlite3 import dbapi2 as sq3\n",
    "from collections import Counter\n",
    "from pathlib import Path\n",
    "import numpy as np\n",
    "import copy\n",
    "from matplotlib import pyplot as plt\n",
    "import country_converter as coco\n",
    "\n",
    "\n",
    "from collections import OrderedDict\n",
    "PATHSTART = '.'\n",
    "pd.options.display.max_columns = None"
   ]
  },
  {
   "cell_type": "code",
   "execution_count": null,
   "id": "0496528f",
   "metadata": {},
   "outputs": [],
   "source": [
    "# function to delete a file\n",
    "def del_file(file):\n",
    "    if os.path.exists(file) == True:\n",
    "        os.remove(file)\n",
    "        print('\\n' + file + ' is deleted')\n",
    "    else:\n",
    "        print('No such file found')"
   ]
  },
  {
   "cell_type": "code",
   "execution_count": null,
   "id": "7d05d1c1",
   "metadata": {},
   "outputs": [],
   "source": [
    "# connecting to database file\n",
    "master_db = sq3.connect('master.db')"
   ]
  },
  {
   "cell_type": "code",
   "execution_count": null,
   "id": "1409b20a",
   "metadata": {},
   "outputs": [],
   "source": [
    "# loading list of new users from database file to a dataframe\n",
    "new_users_df = pd.read_sql_query('''SELECT * FROM newusers''', master_db)\n",
    "new_users_df['country'].fillna('Unknown', inplace=True)\n",
    "new_users_df"
   ]
  },
  {
   "cell_type": "code",
   "execution_count": null,
   "id": "a9d89ea6",
   "metadata": {},
   "outputs": [],
   "source": [
    "# loading all edits table to a dataframe and dropping duplicate values along with removing page and user edits\n",
    "all_edits_df = pd.read_sql_query('''SELECT * FROM alledits''', master_db)\n",
    "all_edits_df.drop_duplicates(subset=['wiki_db', 'event_user_text', 'event_user_registration_timestamp', 'revision_id'], \n",
    "                              keep='first', inplace=True, ignore_index=True)\n",
    "all_edits_df = all_edits_df[(all_edits_df['event_entity']!='user') & (all_edits_df['event_entity']!='page')]\n",
    "\n",
    "# processing the edit timestamp data and getting required columns\n",
    "all_edits_df['event_timestamp'] = all_edits_df['event_timestamp'].astype('datetime64[s]')\n",
    "all_edits_df['event_month_number'] = all_edits_df['event_timestamp'].apply(lambda x: x.strftime('%Y-%m'))\n",
    "all_edits_df['event_month_year'] = all_edits_df['event_timestamp'].apply(lambda x: x.strftime(\"%B-%Y\"))\n",
    "all_edits_df['event_timestamp'] = all_edits_df['event_timestamp'].apply(lambda x: int(x.strftime(\"%Y%m%d%H%M%S\")))\n",
    "\n",
    "# saving the all edits dataframe as a csv file for convenience\n",
    "all_edits_df.to_csv('alledits_data.csv', index=False)\n",
    "df_columns = all_edits_df.columns.to_list()\n",
    "del all_edits_df"
   ]
  },
  {
   "cell_type": "code",
   "execution_count": null,
   "id": "5945bda4",
   "metadata": {},
   "outputs": [],
   "source": [
    "# reading the saved csv file\n",
    "all_edits_df = pd.read_csv('alledits_data.csv')\n",
    "\n",
    "# dropping unnecessary columns and changing event_user column name to user_name \n",
    "all_edits_df = all_edits_df.drop(['event_user_registration_timestamp', 'revision_id', 'event_entity'], axis=1)\n",
    "all_edits_df = all_edits_df.rename(columns={'event_user_text':'user_name'})\n",
    "all_edits_df"
   ]
  },
  {
   "cell_type": "code",
   "execution_count": null,
   "id": "f659def9",
   "metadata": {},
   "outputs": [],
   "source": [
    "# loading campaigns info from a csv file for list of unique countries\n",
    "campaigns_df = pd.read_csv('major_campaigns_timelines.csv')\n",
    "campaigns_df['country'].fillna('Unknown', inplace=True)\n",
    "countries_df = pd.DataFrame(campaigns_df['country'].unique())\n",
    "countries_df.rename(columns={0:'country'}, inplace=True)\n",
    "\n",
    "# generating iso codes for list of unique countries\n",
    "cc = coco.CountryConverter()\n",
    "iso3_codes = coco.convert(names=list(countries_df['country']), to='ISO3', not_found=None)\n",
    "countries_df.insert(1, 'ISO3', iso3_codes)\n",
    "country_iso_dict = {'South_Korea':'KOR', 'Caribbean':'BES', \n",
    "                    'Dutch Caribbean':'BES', 'Basque Country':'ESP',\n",
    "                    'Republika Srpska':'BIH', 'Cape_Verde':'CPV', 'an_unknown_country':'None',\n",
    "                    'with_unknown_country':'None', 'with_no_country':'None',\n",
    "                    'Biosphere_Reserves':'None', '':'None', 'Unknown':'None'}\n",
    "\n",
    "countries_df = countries_df.replace({'ISO3':country_iso_dict})\n",
    "iso_dict = dict(zip(countries_df.country, countries_df.ISO3))\n",
    "campaigns_df['iso_alpha3'] = campaigns_df['country'].map(iso_dict)\n",
    "\n",
    "# saving the modified data into a new csv file\n",
    "campaigns_df.to_csv('major_campaigns_timelines_iso.csv',index=False)\n",
    "campaigns_df"
   ]
  },
  {
   "cell_type": "code",
   "execution_count": null,
   "id": "e73fb6cd",
   "metadata": {},
   "outputs": [],
   "source": [
    "# mapping category with campaign start and end dates \n",
    "campaigns_df = pd.read_csv('major_campaigns_timelines_iso.csv')\n",
    "enddate_map_dict = dict(zip(campaigns_df.cat, campaigns_df.end_date))\n",
    "startdate_map_dict = dict(zip(campaigns_df.cat, campaigns_df.start_date))\n",
    "\n",
    "# mapping countries of new users with campaign country iso codes  \n",
    "iso_map_dict = dict(zip(campaigns_df.country, campaigns_df.iso_alpha3))\n",
    "new_users_df['end_date'] = new_users_df['cat'].map(enddate_map_dict)\n",
    "new_users_df['start_date'] = new_users_df['cat'].map(startdate_map_dict)\n",
    "new_users_df['iso_code'] = new_users_df['country'].map(iso_map_dict)\n",
    "new_users_df"
   ]
  },
  {
   "cell_type": "code",
   "execution_count": null,
   "id": "ca7e589d",
   "metadata": {},
   "outputs": [],
   "source": [
    "# merging necessary data and dropping edits of all users before the end of campaign\n",
    "processed_df = new_users_df.merge(all_edits_df, how='inner', left_on='user_name', right_on='user_name')\n",
    "processed_df.drop(processed_df[processed_df['event_timestamp'] <= processed_df['end_date']].index, inplace = True)\n",
    "\n",
    "# dropping unnecessary columns\n",
    "processed_df.drop(['cat', 'start_date', 'end_date'], axis=1, inplace=True)\n",
    "processed_df"
   ]
  },
  {
   "cell_type": "code",
   "execution_count": null,
   "id": "46f2b55a",
   "metadata": {},
   "outputs": [],
   "source": [
    "# saving the final processed data for app into a csv file \n",
    "final_df = processed_df.groupby(['user_name', 'event_month_number', 'event_month_year', 'country', \n",
    "                                 'campaign', 'cohort', 'wiki_db', 'iso_code']).size().reset_index(name='edit_count')\n",
    "final_df = final_df.sort_values(by=['event_month_number', 'event_month_year', 'country', 'campaign', 'cohort', 'wiki_db'])\n",
    "final_df.to_csv('monthwise_filtered_data.csv', index=False)\n",
    "final_df"
   ]
  },
  {
   "cell_type": "code",
   "execution_count": null,
   "id": "71b9db05",
   "metadata": {},
   "outputs": [],
   "source": [
    "# deleting unnecessary files\n",
    "del_file('alledits_data.csv')\n",
    "del_file('major_campaigns_timelines_iso.csv')"
   ]
  }
 ],
 "metadata": {
  "kernelspec": {
   "display_name": "Python 3 (ipykernel)",
   "language": "python",
   "name": "python3"
  },
  "language_info": {
   "codemirror_mode": {
    "name": "ipython",
    "version": 3
   },
   "file_extension": ".py",
   "mimetype": "text/x-python",
   "name": "python",
   "nbconvert_exporter": "python",
   "pygments_lexer": "ipython3",
   "version": "3.10.4"
  }
 },
 "nbformat": 4,
 "nbformat_minor": 5
}
